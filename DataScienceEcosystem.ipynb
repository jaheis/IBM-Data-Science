{
 "cells": [
  {
   "cell_type": "markdown",
   "id": "644162df",
   "metadata": {},
   "source": [
    "# Data Science Tools and Ecosystem"
   ]
  },
  {
   "cell_type": "markdown",
   "id": "30651f83",
   "metadata": {},
   "source": [
    "In this notebook, Data Science Tools and Ecosystem are summarized."
   ]
  },
  {
   "cell_type": "markdown",
   "id": "d81ab85f",
   "metadata": {},
   "source": [
    "Some of the popular languages that Data Scientists use are:\n",
    "\n",
    "1. R\n",
    "2. Python\n",
    "3. SQL"
   ]
  },
  {
   "cell_type": "markdown",
   "id": "7df63925",
   "metadata": {},
   "source": [
    "Some of the commonly used libraries used by Data Scientists include:\n",
    "\n",
    "1. Pandas\n",
    "2. Caret\n",
    "3. dplyr"
   ]
  },
  {
   "cell_type": "markdown",
   "id": "5080b486",
   "metadata": {},
   "source": [
    "| Data Science Tools|\n",
    "| ----------- |\n",
    "| Rstudio      |\n",
    "| Spyder   |\n",
    "|Apache Spark|"
   ]
  },
  {
   "cell_type": "markdown",
   "id": "519a01e7",
   "metadata": {},
   "source": [
    "### Below are a few examples of evaluating arithmetic expressions in Python\n",
    "\n",
    "x = 1 + 5\n",
    "y = 2**2\n",
    "z = 2*4"
   ]
  },
  {
   "cell_type": "markdown",
   "id": "e3f4d38a",
   "metadata": {},
   "source": [
    "This a simple arithmetic expression to mutiply then add integers:"
   ]
  },
  {
   "cell_type": "code",
   "execution_count": 1,
   "id": "dab50873",
   "metadata": {},
   "outputs": [
    {
     "data": {
      "text/plain": [
       "17"
      ]
     },
     "execution_count": 1,
     "metadata": {},
     "output_type": "execute_result"
    }
   ],
   "source": [
    "(3*4)+5"
   ]
  },
  {
   "cell_type": "markdown",
   "id": "c20c878f",
   "metadata": {},
   "source": [
    "This will convert 200 minutes to hours by diving by 60:"
   ]
  },
  {
   "cell_type": "code",
   "execution_count": 2,
   "id": "eaedd6a2",
   "metadata": {},
   "outputs": [
    {
     "name": "stdout",
     "output_type": "stream",
     "text": [
      "3.3333333333333335\n"
     ]
    }
   ],
   "source": [
    "hours = 200 / 60\n",
    "print(hours)"
   ]
  },
  {
   "cell_type": "markdown",
   "id": "4a99fea1",
   "metadata": {},
   "source": [
    "**Objectives:**\n",
    "\n",
    "- Most popular languages of data science\n",
    "- Commonly used libraires and APIs in Data Science\n",
    "- Jupyter Notebook and RStudio applications"
   ]
  },
  {
   "cell_type": "markdown",
   "id": "c96d5223",
   "metadata": {},
   "source": [
    "## Author:\n",
    "\n",
    "Janne Isojärvi"
   ]
  }
 ],
 "metadata": {
  "kernelspec": {
   "display_name": "Python 3",
   "language": "python",
   "name": "python3"
  },
  "language_info": {
   "codemirror_mode": {
    "name": "ipython",
    "version": 3
   },
   "file_extension": ".py",
   "mimetype": "text/x-python",
   "name": "python",
   "nbconvert_exporter": "python",
   "pygments_lexer": "ipython3",
   "version": "3.8.8"
  }
 },
 "nbformat": 4,
 "nbformat_minor": 5
}
